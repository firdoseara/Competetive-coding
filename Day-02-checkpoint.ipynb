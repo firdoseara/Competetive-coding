{
 "cells": [
  {
   "cell_type": "markdown",
   "id": "3822bd37-eff3-4901-afad-77f5ce37ceba",
   "metadata": {},
   "source": [
    "Hyphen"
   ]
  },
  {
   "cell_type": "code",
   "execution_count": 5,
   "id": "e1253e2a-b8c3-4377-8164-665d0c6f11ab",
   "metadata": {},
   "outputs": [
    {
     "data": {
      "text/plain": [
       "'--hellohisir'"
      ]
     },
     "execution_count": 5,
     "metadata": {},
     "output_type": "execute_result"
    }
   ],
   "source": [
    "#hello-hi-sir\n",
    "def hyphens(s):\n",
    "    alph = ''\n",
    "    hyp = ''\n",
    "    for i in s: #h\n",
    "        if i == '-':\n",
    "            hyp = hyp+i  #''+'-'='-'+'-'='--'\n",
    "        else:\n",
    "            alph = alph+i  #''+h='h'+'e'='he'....\n",
    "        #hello + h =helloh ,  helloh + i =hellohi ....\n",
    "        #'--' + 'hellohisir'\n",
    "        #'--hellohisir'\n",
    "    return hyp+alph\n",
    "s = 'hello-hi-sir'\n",
    "hyphens(s)"
   ]
  },
  {
   "cell_type": "markdown",
   "id": "ce501c1e-efc7-4298-a678-25576436032d",
   "metadata": {},
   "source": [
    "N - base notation"
   ]
  },
  {
   "cell_type": "code",
   "execution_count": 29,
   "id": "03f604b7-1b1a-433f-b73d-fdb2dde6f67a",
   "metadata": {},
   "outputs": [
    {
     "data": {
      "text/plain": [
       "'4BA'"
      ]
     },
     "execution_count": 29,
     "metadata": {},
     "output_type": "execute_result"
    }
   ],
   "source": [
    "def baseNotation(num,n):\n",
    "    rem1 = []\n",
    "    result = ''\n",
    "    while num!=0:\n",
    "        rem = num%n\n",
    "        rem1.append(rem)\n",
    "        num = num//n\n",
    "    #conversion\n",
    "    for i in rem1:\n",
    "        if i > 9:\n",
    "            char = chr(i + 55)\n",
    "            #appending in string \n",
    "            result = result + char\n",
    "        else:\n",
    "            c = str(i)\n",
    "            result = result +c\n",
    "    return result[::-1]\n",
    "\n",
    "num = 718\n",
    "n = 12\n",
    "baseNotation(num,n)"
   ]
  },
  {
   "cell_type": "markdown",
   "id": "59894943-18a2-4018-857e-8fa59edbdffc",
   "metadata": {},
   "source": [
    "Check Password"
   ]
  },
  {
   "cell_type": "code",
   "execution_count": 60,
   "id": "a4100ea4-bc78-48eb-8b16-78ac23fc0311",
   "metadata": {},
   "outputs": [
    {
     "data": {
      "text/plain": [
       "0"
      ]
     },
     "execution_count": 60,
     "metadata": {},
     "output_type": "execute_result"
    }
   ],
   "source": [
    "def password(pwd):\n",
    "    if len(pwd) < 4:\n",
    "        return 0\n",
    "    if pwd[0].isdigit():\n",
    "        return 0\n",
    "    cap = 0\n",
    "    nu = 0\n",
    "    for i in pwd:\n",
    "        if i.isupper():\n",
    "            cap = 1\n",
    "        elif i.isdigit():\n",
    "            nu = 1\n",
    "        elif i == '' or i == '/':\n",
    "            return 0\n",
    "    if cap == 1 and nu == 1:\n",
    "        return 1\n",
    "    else:\n",
    "        return 0\n",
    "\n",
    "password(\"weAswe3/4\")\n",
    "    "
   ]
  },
  {
   "cell_type": "markdown",
   "id": "372e5bfb-e4ea-4789-85aa-ee7b89eb8da0",
   "metadata": {},
   "source": [
    "Difference between sum of divisible and not divisible"
   ]
  },
  {
   "cell_type": "code",
   "execution_count": 72,
   "id": "edaaf56e-329f-4cf8-8b5f-275c25031538",
   "metadata": {},
   "outputs": [
    {
     "data": {
      "text/plain": [
       "90"
      ]
     },
     "execution_count": 72,
     "metadata": {},
     "output_type": "execute_result"
    }
   ],
   "source": [
    "def diffrenceSum(n,m):\n",
    "    total_sum = sum(range(1, m + 1))\n",
    "    \n",
    "    # Calculate the sum of numbers divisible by n\n",
    "    divisible_sum = sum(x for x in range(1, m + 1) if x % n == 0)\n",
    "    \n",
    "    # Calculate the sum of numbers not divisible by n\n",
    "    non_divisible_sum = total_sum - divisible_sum\n",
    "    \n",
    "    # Return the difference\n",
    "    return non_divisible_sum - divisible_sum\n",
    "\n",
    "n = 4\n",
    "m = 20\n",
    "diffrenceSum(n,m)"
   ]
  },
  {
   "cell_type": "code",
   "execution_count": 74,
   "id": "169d7135-59bc-4ece-a966-c7f6f2baaca7",
   "metadata": {},
   "outputs": [
    {
     "data": {
      "text/plain": [
       "90"
      ]
     },
     "execution_count": 74,
     "metadata": {},
     "output_type": "execute_result"
    }
   ],
   "source": [
    "def differnce(n,m):\n",
    "    sdiv = 0\n",
    "    sndiv = 0\n",
    "    for i in range(1,m+1):\n",
    "        if i %n == 0:\n",
    "            sdiv = sdiv + i\n",
    "        else:\n",
    "            sndiv = sndiv + i\n",
    "    return abs(sdiv - sndiv)\n",
    "\n",
    "n = 4\n",
    "m = 20\n",
    "differnce(n,m)"
   ]
  },
  {
   "cell_type": "markdown",
   "id": "ea069914-eaa0-470c-b213-8424fe870a55",
   "metadata": {},
   "source": [
    "Odd and even seperation based on position"
   ]
  },
  {
   "cell_type": "code",
   "execution_count": 76,
   "id": "d02cf661-722f-4dc3-9c4f-0ea7fccf3279",
   "metadata": {},
   "outputs": [
    {
     "name": "stdout",
     "output_type": "stream",
     "text": [
      "[4, 3, 2]\n",
      "[1, 6, 11]\n"
     ]
    }
   ],
   "source": [
    "arr = [4,1,3,6,2,11]\n",
    "n = len(arr)\n",
    "e = arr[0:n:2]\n",
    "o = arr[1:n:2]\n",
    "print(e)\n",
    "print(o)"
   ]
  },
  {
   "cell_type": "markdown",
   "id": "527c6dd4-96da-4ae9-acab-f2043392ffce",
   "metadata": {},
   "source": [
    "Large and Small sum"
   ]
  },
  {
   "cell_type": "code",
   "execution_count": 86,
   "id": "74af6cf7-916d-46b1-a24a-a0d5e5b2505d",
   "metadata": {},
   "outputs": [
    {
     "name": "stdout",
     "output_type": "stream",
     "text": [
      "7\n"
     ]
    }
   ],
   "source": [
    "def sumSmall(arr):\n",
    "    n = len(arr)\n",
    "    even = arr[0:n:2]\n",
    "    odd = arr[1:n:2]\n",
    "    even.sort(reverse=True)\n",
    "    odd.sort()\n",
    "    second_largest_even = even[1]\n",
    "    second_smallest_odd = odd[1]\n",
    "    return second_largest_even + second_smallest_odd\n",
    "arr = [3, 2, 1, 7, 5, 4]\n",
    "result = sumSmall(arr)\n",
    "print(result) \n"
   ]
  },
  {
   "cell_type": "raw",
   "id": "1b5e80dd-222e-4eb0-9a27-85e35fe9a98d",
   "metadata": {},
   "source": [
    "Product of smallest pair"
   ]
  },
  {
   "cell_type": "code",
   "execution_count": 110,
   "id": "bca1d310-fbd3-4f0d-a51a-70f124b834c2",
   "metadata": {},
   "outputs": [
    {
     "data": {
      "text/plain": [
       "2"
      ]
     },
     "execution_count": 110,
     "metadata": {},
     "output_type": "execute_result"
    }
   ],
   "source": [
    "def smallPair(arr,sum):\n",
    "    n = len(arr)\n",
    "    if n < 2:\n",
    "        print('-1')\n",
    "    sarr = sorted(arr)\n",
    "    for i in range(n - 1):\n",
    "        ssum = sarr[i] + sarr[i + 1]\n",
    "        if ssum <= sum:\n",
    "            return sarr[i] * sarr[i + 1]\n",
    "\n",
    "arr = [2, 6, 1, 7, 8]\n",
    "sum = 3\n",
    "smallPair(arr,sum)"
   ]
  },
  {
   "cell_type": "markdown",
   "id": "cc28a104-3103-49d1-8f71-7bb39b35bdb7",
   "metadata": {},
   "source": [
    "Absolute difference"
   ]
  },
  {
   "cell_type": "code",
   "execution_count": 122,
   "id": "45f5e7e6-d113-479e-9d6b-35071ef13ca2",
   "metadata": {},
   "outputs": [
    {
     "data": {
      "text/plain": [
       "3"
      ]
     },
     "execution_count": 122,
     "metadata": {},
     "output_type": "execute_result"
    }
   ],
   "source": [
    "def findCount(arr, num, diff):\n",
    "    n = len(arr)\n",
    "    count = 0\n",
    "    for i in range(n):\n",
    "        if abs(arr[i]-num) <= diff:\n",
    "            count = count + 1\n",
    "    if count == 0:\n",
    "        return -1\n",
    "    else:\n",
    "        return count\n",
    "\n",
    "arr = [12, 3, 14, 56, 77, 13]\n",
    "num = 13\n",
    "diff = 2\n",
    "findCount(arr,num,diff)"
   ]
  },
  {
   "cell_type": "markdown",
   "id": "abcd0ffc-738a-42f9-acf9-459c315bf197",
   "metadata": {},
   "source": [
    "Valid parenthesis"
   ]
  },
  {
   "cell_type": "code",
   "execution_count": 124,
   "id": "6255d4c7-a207-45cb-b591-a2ce8658c6c3",
   "metadata": {},
   "outputs": [
    {
     "data": {
      "text/plain": [
       "'valid'"
      ]
     },
     "execution_count": 124,
     "metadata": {},
     "output_type": "execute_result"
    }
   ],
   "source": [
    "def validpara(p):\n",
    "    dict1 = {'(':')','{':'}','[':']'}\n",
    "    stack = []\n",
    "    for i in p:\n",
    "        if i in dict1:\n",
    "            stack.append(dict1[i])\n",
    "        else:\n",
    "            if stack[-1]==i:\n",
    "                stack.pop()\n",
    "    if len(stack) == 0:\n",
    "        return \"valid\"\n",
    "    else:\n",
    "        return\"in valid\"\n",
    "\n",
    "p = \"()[]{}\"\n",
    "validpara(p)"
   ]
  }
 ],
 "metadata": {
  "kernelspec": {
   "display_name": "Python 3 (ipykernel)",
   "language": "python",
   "name": "python3"
  },
  "language_info": {
   "codemirror_mode": {
    "name": "ipython",
    "version": 3
   },
   "file_extension": ".py",
   "mimetype": "text/x-python",
   "name": "python",
   "nbconvert_exporter": "python",
   "pygments_lexer": "ipython3",
   "version": "3.11.7"
  }
 },
 "nbformat": 4,
 "nbformat_minor": 5
}

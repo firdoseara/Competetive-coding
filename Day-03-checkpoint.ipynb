{
 "cells": [
  {
   "cell_type": "markdown",
   "id": "7d58f5a2-4f17-4436-867e-af24a7871a0c",
   "metadata": {},
   "source": [
    "Add binary"
   ]
  },
  {
   "cell_type": "code",
   "execution_count": 11,
   "id": "6ca10271-2dc8-41c7-8b24-ced452ddc8c5",
   "metadata": {},
   "outputs": [
    {
     "name": "stdout",
     "output_type": "stream",
     "text": [
      "3\n",
      "1\n"
     ]
    },
    {
     "data": {
      "text/plain": [
       "'100'"
      ]
     },
     "execution_count": 11,
     "metadata": {},
     "output_type": "execute_result"
    }
   ],
   "source": [
    "a = \"11\"\n",
    "b = int(a,2)  #binary to integer\n",
    "print(b)\n",
    "c = \"1\"\n",
    "d = int(c,2)   #binary to integer\n",
    "print(d)\n",
    "bin(b+d)[2:]  #start from 2nd index"
   ]
  },
  {
   "cell_type": "code",
   "execution_count": 17,
   "id": "e98064c3-503d-44ec-9d64-a57ffbcbf131",
   "metadata": {},
   "outputs": [
    {
     "name": "stdout",
     "output_type": "stream",
     "text": [
      "1100\n"
     ]
    }
   ],
   "source": [
    "class Solution:\n",
    "    def addBinary(self, a: str, b: str) -> str:\n",
    "        return bin(int(a,2)+int(b,2))[2:]\n",
    "\n",
    "a = \"111\"\n",
    "b = \"101\"\n",
    "solution = Solution()\n",
    "print(solution.addBinary(a, b))"
   ]
  },
  {
   "cell_type": "markdown",
   "id": "1995d095-75bf-40a9-b074-d0b24b049b9d",
   "metadata": {},
   "source": [
    "Distance between given points"
   ]
  },
  {
   "cell_type": "code",
   "execution_count": 37,
   "id": "a21399b9-b987-448e-8425-79cf21775edc",
   "metadata": {},
   "outputs": [
    {
     "name": "stdout",
     "output_type": "stream",
     "text": [
      "2.449489742783178\n",
      "2.6457513110645907\n",
      "2.6457513110645907\n"
     ]
    }
   ],
   "source": [
    "import math \n",
    "x1 = 1 \n",
    "y1 = 1\n",
    "x2 = 2\n",
    "y2 = 4\n",
    "x3 = 3\n",
    "y3 = 6\n",
    "a = math.sqrt((x2-x1)^2 + (y2-y1)^2)\n",
    "b = math.sqrt((x3-x2)^2 + (y3-y2)^2)\n",
    "c = math.sqrt((x3-x1)^2 + (y3-y1)^2)\n",
    "print(a)\n",
    "print(b)\n",
    "print(c)"
   ]
  },
  {
   "cell_type": "code",
   "execution_count": 51,
   "id": "9ee3fcef-90a6-4f0f-a2f1-e201cfcab01e",
   "metadata": {},
   "outputs": [
    {
     "data": {
      "text/plain": [
       "10.783510444802673"
      ]
     },
     "execution_count": 51,
     "metadata": {},
     "output_type": "execute_result"
    }
   ],
   "source": [
    "def sumofdistance(x1,y1,x2,y2,x3,y3):\n",
    "    import math\n",
    "    AB = ((x2-x1)**2 + (y2-y1)**2)**0.5\n",
    "    BC = ((x3-x2)**2 + (y3-y2)**2)**0.5\n",
    "    CA = ((x1-x3)**2 + (y1-y3)**2)**0.5\n",
    "    return AB + BC + CA\n",
    "sumofdistance(x1 = 1,y1 = 1,x2 = 2,y2 = 4,x3 = 3,y3 = 6)"
   ]
  },
  {
   "cell_type": "markdown",
   "id": "87a71088-c6dd-4f26-81c0-498762937ff8",
   "metadata": {},
   "source": [
    "String to integer"
   ]
  },
  {
   "cell_type": "code",
   "execution_count": 45,
   "id": "9f9dd3ce-4663-4df8-b0e0-cc0ee112eb85",
   "metadata": {},
   "outputs": [
    {
     "data": {
      "text/plain": [
       "678"
      ]
     },
     "execution_count": 45,
     "metadata": {},
     "output_type": "execute_result"
    }
   ],
   "source": [
    "def atoi(s):\n",
    "    s = s.strip()\n",
    "    sign = 1\n",
    "    #no  convertion\n",
    "    if len(s) == 0:\n",
    "        return 0\n",
    "    if s[0]== '-':\n",
    "        sign = -1\n",
    "        s = s[1:]\n",
    "    elif s[0] == '+':\n",
    "        s = s[1:]\n",
    "        #conversion\n",
    "    result = 0\n",
    "    for i in s:\n",
    "        if i.isdigit():\n",
    "            digit = int(i)\n",
    "            result = result*10 + digit\n",
    "        else:\n",
    "            break\n",
    "    result = result*sign\n",
    "    mini = -2**31\n",
    "    maxi = 2**31 - 1\n",
    "    if result >maxi:\n",
    "        return maxi\n",
    "    elif result < mini:\n",
    "        return mini\n",
    "    else:\n",
    "        return result\n",
    "\n",
    "atoi(\"   678gft3\")"
   ]
  },
  {
   "cell_type": "markdown",
   "id": "4663e3f9-d719-4ea2-9c0e-d2470c374b2d",
   "metadata": {},
   "source": [
    "Roman to integer"
   ]
  },
  {
   "cell_type": "code",
   "execution_count": 67,
   "id": "0209aec0-ba92-4c78-88aa-d9da87fca319",
   "metadata": {},
   "outputs": [
    {
     "data": {
      "text/plain": [
       "58"
      ]
     },
     "execution_count": 67,
     "metadata": {},
     "output_type": "execute_result"
    }
   ],
   "source": [
    "def romanToInt(s: str) -> int:\n",
    "    d = {\"M\": 1000, \"D\": 500, \"C\": 100, \"L\": 50, \"X\": 10, \"V\": 5, \"I\": 1}\n",
    "    ans = 0\n",
    "    for i in range(len(s)):\n",
    "        if i > 0 and d[s[i]] > d[s[i - 1]]:\n",
    "            ans -= 2 * d[s[i - 1]]\n",
    "        ans += d[s[i]]\n",
    "    return ans\n",
    "\n",
    "s = \"LVIII\"\n",
    "romanToInt(s)\n"
   ]
  },
  {
   "cell_type": "code",
   "execution_count": 71,
   "id": "412cdd17-b87f-4944-a975-489285256ba0",
   "metadata": {},
   "outputs": [
    {
     "data": {
      "text/plain": [
       "58"
      ]
     },
     "execution_count": 71,
     "metadata": {},
     "output_type": "execute_result"
    }
   ],
   "source": [
    "def rtoi(s):\n",
    "    d = {\"M\": 1000, \"D\": 500, \"C\": 100, \"L\": 50, \"X\": 10, \"V\": 5, \"I\": 1}\n",
    "    total = 0\n",
    "    for i in range(len(s)):\n",
    "        cval = d[s[i]]\n",
    "        nval = d[s[i+1]] if i+1 < len(s) else 0\n",
    "        if cval >= nval:\n",
    "            total = total + cval\n",
    "        else:\n",
    "            total = total + nval\n",
    "    return total\n",
    "    \n",
    "s = \"LVIII\"\n",
    "rtoi(s)        "
   ]
  },
  {
   "cell_type": "markdown",
   "id": "acfe8f24-0f95-44be-8f05-a7b91d6bc67e",
   "metadata": {},
   "source": [
    "Shuffle list"
   ]
  },
  {
   "cell_type": "code",
   "execution_count": 90,
   "id": "fc715878-d59a-4c26-a674-81e2165e1d88",
   "metadata": {},
   "outputs": [
    {
     "data": {
      "text/plain": [
       "[3, 4, 1, 5, 2]"
      ]
     },
     "execution_count": 90,
     "metadata": {},
     "output_type": "execute_result"
    }
   ],
   "source": [
    "def randomize(arr):\n",
    "    import random as rd\n",
    "    rd.shuffle(arr)\n",
    "    return arr\n",
    "\n",
    "arr = [1, 2, 3, 4, 5]\n",
    "randomize(arr)"
   ]
  },
  {
   "cell_type": "markdown",
   "id": "7b0700f8-3b4e-4c45-a031-df59f691d160",
   "metadata": {},
   "source": [
    "First string occurance"
   ]
  },
  {
   "cell_type": "code",
   "execution_count": 3,
   "id": "577f70ee-2f43-41de-82c1-94d3c57d8e2a",
   "metadata": {},
   "outputs": [
    {
     "data": {
      "text/plain": [
       "5"
      ]
     },
     "execution_count": 3,
     "metadata": {},
     "output_type": "execute_result"
    }
   ],
   "source": [
    "haystack = \"hellojawlihellojawli\"\n",
    "needle = \"jaw\"\n",
    "def substring(haystack, needle):\n",
    "    return haystack.find(needle)\n",
    "\n",
    "substring(haystack,needle)"
   ]
  },
  {
   "cell_type": "markdown",
   "id": "3b9fede9-0c52-45b6-a386-940fb9fdaca3",
   "metadata": {},
   "source": [
    "Tax calculator"
   ]
  },
  {
   "cell_type": "code",
   "execution_count": 21,
   "id": "006de7dd-6764-48ed-bce2-1da406d93f53",
   "metadata": {},
   "outputs": [
    {
     "data": {
      "text/plain": [
       "35900.0"
      ]
     },
     "execution_count": 21,
     "metadata": {},
     "output_type": "execute_result"
    }
   ],
   "source": [
    "#tax calculator\n",
    "#1.sal 0 to 5000, apply on tax, no convenience fee\n",
    "#2.sal 5001 to 10000, apply 5% tax, convenince fee=10\n",
    "#3.sal 10001 to 50000, apply 10% tax, convenience fee=100\n",
    "#3.sal 50001 to 1lakh, apply 15% tax, convenience fee=150\n",
    "#4.sal 1lakh to 50lakh, apply 20% tax, convenience fee=600\n",
    "#5.more than 50lakh, salary limit exceeded\n",
    "def taxCalculator(sal):\n",
    "    if sal < 0:\n",
    "        return -1\n",
    "    elif sal <= 5000:\n",
    "        tax = 0 \n",
    "        conv = 0\n",
    "    elif sal >= 5001 and sal <= 10000:\n",
    "        tax = sal * 0.5\n",
    "        conv = 10\n",
    "    elif sal >= 10001 and sal <= 50000:\n",
    "        tax = sal * 0.10\n",
    "        conv = 100\n",
    "    elif sal >= 50001 and sal <= 100000:\n",
    "        tax = sal * 0.15\n",
    "        conv = 150\n",
    "    elif sal >= 1000001 and sal <= 5000000:\n",
    "        tax = sal * 0.20\n",
    "        conv = 600\n",
    "    else:\n",
    "        return \"salary limit exceeded\"\n",
    "    final_salary = sal - tax - conv\n",
    "    return final_salary\n",
    "\n",
    "sal = 40000\n",
    "taxCalculator(sal)"
   ]
  },
  {
   "cell_type": "markdown",
   "id": "ba98f621-241f-4ae7-b161-8fb1e1776bf1",
   "metadata": {},
   "source": [
    "Remove duplicate"
   ]
  },
  {
   "cell_type": "code",
   "execution_count": 23,
   "id": "d7606354-0f48-48d6-a176-8b94e464cc1c",
   "metadata": {},
   "outputs": [
    {
     "name": "stdout",
     "output_type": "stream",
     "text": [
      "[1, 2, 3, 4, 5]\n"
     ]
    }
   ],
   "source": [
    "def remove_duplicates(arr):\n",
    "    return list(set(arr))\n",
    "\n",
    "arr = [1, 2, 2, 3, 4, 4, 5, 5, 5]\n",
    "result = remove_duplicates(arr)\n",
    "print(result)\n"
   ]
  },
  {
   "cell_type": "code",
   "execution_count": 25,
   "id": "34e261bd-4b0a-40ef-86d8-6bece65e139d",
   "metadata": {},
   "outputs": [
    {
     "name": "stdout",
     "output_type": "stream",
     "text": [
      "[1, 2, 3, 4, 5]\n"
     ]
    }
   ],
   "source": [
    "def remove_duplicates(arr):\n",
    "    unique_elements = []\n",
    "    for item in arr:\n",
    "        if item not in unique_elements:\n",
    "            unique_elements.append(item)\n",
    "    return unique_elements\n",
    "\n",
    "arr = [1, 2, 2, 3, 4, 4, 5, 5, 5]\n",
    "result = remove_duplicates(arr)\n",
    "print(result)\n"
   ]
  },
  {
   "cell_type": "code",
   "execution_count": 29,
   "id": "4bfd0e56-93e3-40df-be8e-bf24607ff37a",
   "metadata": {},
   "outputs": [
    {
     "data": {
      "text/plain": [
       "2"
      ]
     },
     "execution_count": 29,
     "metadata": {},
     "output_type": "execute_result"
    }
   ],
   "source": [
    "def removeDupli(nums):\n",
    "    i = 0\n",
    "    for num in nums:\n",
    "        if i < 1 or num > nums[i - 1]:\n",
    "            nums[i] = num\n",
    "            i += 1\n",
    "    return i\n",
    "\n",
    "nums = [1,1,2]\n",
    "removeDupli(nums)"
   ]
  },
  {
   "cell_type": "markdown",
   "id": "e50aa5f1-104f-491e-95ed-c1cc9d168453",
   "metadata": {},
   "source": [
    "Climbing stairs "
   ]
  },
  {
   "cell_type": "code",
   "execution_count": null,
   "id": "62ad38f4-4d0f-4617-8733-3a2b122dc2b1",
   "metadata": {},
   "outputs": [],
   "source": []
  }
 ],
 "metadata": {
  "kernelspec": {
   "display_name": "Python 3 (ipykernel)",
   "language": "python",
   "name": "python3"
  },
  "language_info": {
   "codemirror_mode": {
    "name": "ipython",
    "version": 3
   },
   "file_extension": ".py",
   "mimetype": "text/x-python",
   "name": "python",
   "nbconvert_exporter": "python",
   "pygments_lexer": "ipython3",
   "version": "3.11.7"
  }
 },
 "nbformat": 4,
 "nbformat_minor": 5
}

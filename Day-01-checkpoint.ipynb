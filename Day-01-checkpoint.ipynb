{
 "cells": [
  {
   "cell_type": "markdown",
   "id": "9a3e619d-b5d7-4676-b62d-b5b2f216f92b",
   "metadata": {},
   "source": [
    "Reverse an integer"
   ]
  },
  {
   "cell_type": "code",
   "execution_count": 3,
   "id": "fdd82aae-d2ca-4933-b7f5-ddf027b27f29",
   "metadata": {},
   "outputs": [],
   "source": [
    "def rev(num):\n",
    "    r = str(num)\n",
    "    return r[::-1]"
   ]
  },
  {
   "cell_type": "code",
   "execution_count": 11,
   "id": "f24e45cb-b276-43e4-953f-419a20514171",
   "metadata": {},
   "outputs": [
    {
     "name": "stdout",
     "output_type": "stream",
     "text": [
      "219\n"
     ]
    }
   ],
   "source": [
    "def reverse(num):\n",
    "    result = 0\n",
    "    while num!=0:\n",
    "        rem = num%10\n",
    "        result = result*10 + rem\n",
    "        num = num//10\n",
    "    print(result)\n",
    "\n",
    "num=912\n",
    "reverse(num)"
   ]
  },
  {
   "cell_type": "code",
   "execution_count": null,
   "id": "80ba763c-5b79-46c8-b8f4-1622fa6645ec",
   "metadata": {},
   "outputs": [],
   "source": [
    "class Solution:\n",
    "    def reverse(self, x: int) -> int:\n",
    "        sign = -1 if x<0 else 1\n",
    "        x = abs(x)\n",
    "        rev = 0\n",
    "        while x!=0:\n",
    "            rem = x%10\n",
    "            rev = rev*10 + rem\n",
    "            x = x//10\n",
    "        rev = rev*sign\n",
    "        if rev < -2**31 or rev > 2**31:\n",
    "            return 0\n",
    "        return rev"
   ]
  },
  {
   "cell_type": "markdown",
   "id": "90afbe19-5e25-4aef-a456-ce754dc683f1",
   "metadata": {},
   "source": [
    "palindrome"
   ]
  },
  {
   "cell_type": "code",
   "execution_count": 1,
   "id": "bdf1517d-c53a-4d3e-9185-06d070cf6125",
   "metadata": {},
   "outputs": [],
   "source": [
    "class Solution:\n",
    "    def isPalindrome(self, x: int) -> bool:\n",
    "        s = str(x)\n",
    "        return s == s[::-1]"
   ]
  },
  {
   "cell_type": "code",
   "execution_count": 3,
   "id": "49e03a00-b671-4879-809c-a494ef134090",
   "metadata": {},
   "outputs": [],
   "source": [
    "class Solution:\n",
    "    def isPalindrome(self, x: int) -> bool:\n",
    "        if x < 0:\n",
    "            return False\n",
    "        \n",
    "        original = x\n",
    "        rev = 0\n",
    "        \n",
    "        while x != 0:\n",
    "            rem = x % 10\n",
    "            rev = rev * 10 + rem\n",
    "            x //= 10\n",
    "        \n",
    "        return original == rev"
   ]
  },
  {
   "cell_type": "markdown",
   "id": "ae6a1910-6c76-4d64-b8c8-4f5342306f15",
   "metadata": {},
   "source": [
    "Valid Anagram"
   ]
  },
  {
   "cell_type": "code",
   "execution_count": 5,
   "id": "398c7599-7c51-46a1-9f52-a3552cbc8cde",
   "metadata": {},
   "outputs": [],
   "source": [
    "class Solution:\n",
    "    def isAnagram(self, s: str, t: str) -> bool:\n",
    "        s = sorted(s)\n",
    "        t = sorted(t)\n",
    "        if s== t:\n",
    "            return True\n",
    "        else:\n",
    "            return False"
   ]
  },
  {
   "cell_type": "code",
   "execution_count": 7,
   "id": "16bb4f29-f810-4c13-aab5-0a70bc421d80",
   "metadata": {},
   "outputs": [],
   "source": [
    "class Solution:\n",
    "    def isAnagram(self, s: str, t: str) -> bool:\n",
    "        return sorted(s)==sorted(t)"
   ]
  },
  {
   "cell_type": "markdown",
   "id": "7881c7f8-85fc-446c-b46d-99f90a58c944",
   "metadata": {},
   "source": [
    "Fizz Buzz"
   ]
  },
  {
   "cell_type": "code",
   "execution_count": null,
   "id": "1afd80c3-3997-4973-a099-e9498b455f4f",
   "metadata": {},
   "outputs": [],
   "source": [
    "class Solution:\n",
    "    def fizzBuzz(self, n: int) -> List[str]:\n",
    "        result = []\n",
    "        for i in range(1, n + 1):\n",
    "            if i % 3 == 0 and i % 5 == 0:\n",
    "                result.append(\"FizzBuzz\")\n",
    "            elif i % 3 == 0:\n",
    "                result.append(\"Fizz\")\n",
    "            elif i % 5 == 0:\n",
    "                result.append(\"Buzz\")\n",
    "            else:\n",
    "                result.append(str(i))\n",
    "        return result"
   ]
  },
  {
   "cell_type": "markdown",
   "id": "6534dff9-8be5-4f5a-bb10-0941b91df9bc",
   "metadata": {},
   "source": [
    "Reverse String"
   ]
  },
  {
   "cell_type": "code",
   "execution_count": null,
   "id": "b78f8313-cd64-47fd-adf0-2dea19fa3c17",
   "metadata": {},
   "outputs": [],
   "source": [
    "class Solution:\n",
    "    def reverseString(self, s: List[str]) -> None:\n",
    "        left = 0\n",
    "        right = len(s)-1\n",
    "        while left < right:\n",
    "            s[left], s[right] = s[right], s[left]\n",
    "            left += 1\n",
    "            right -= 1"
   ]
  },
  {
   "cell_type": "markdown",
   "id": "ceaedacd-b822-4ac3-b545-7cfe1a1e9eea",
   "metadata": {},
   "source": [
    "Index of first occurannce of string "
   ]
  },
  {
   "cell_type": "code",
   "execution_count": null,
   "id": "5e79d159-4192-45fd-b7b8-85556912ddfa",
   "metadata": {},
   "outputs": [],
   "source": [
    "class Solution:\n",
    "    def strStr(self, haystack: str, needle: str) -> int:\n",
    "        if needle == \"\":\n",
    "            return 0\n",
    "        n = len(haystack)\n",
    "        m = len(needle)\n",
    "        for i in range(n - m + 1):\n",
    "            if haystack[i:i + m] == needle:\n",
    "                return i\n",
    "        return -1"
   ]
  }
 ],
 "metadata": {
  "kernelspec": {
   "display_name": "Python 3 (ipykernel)",
   "language": "python",
   "name": "python3"
  },
  "language_info": {
   "codemirror_mode": {
    "name": "ipython",
    "version": 3
   },
   "file_extension": ".py",
   "mimetype": "text/x-python",
   "name": "python",
   "nbconvert_exporter": "python",
   "pygments_lexer": "ipython3",
   "version": "3.11.7"
  }
 },
 "nbformat": 4,
 "nbformat_minor": 5
}

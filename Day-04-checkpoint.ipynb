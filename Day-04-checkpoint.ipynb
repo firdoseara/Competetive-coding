{
 "cells": [
  {
   "cell_type": "markdown",
   "id": "dbaabf33-c5a7-473c-987f-bda2fb6d05aa",
   "metadata": {},
   "source": [
    "Linked list \n",
    "Linked List is basically chains of nodes where each node contains information such as data and a pointer to the next node in the chain.\n",
    "Basic Terminologies of Linked List\r\n",
    "Head: The Head of a linked list is a pointer to the first node or reference of the first node of linked list. This pointer marks the beginning of the linked list.\r\n",
    "Node: Linked List consists of a series of nodes where each node has two parts: data and next pointer.\r\n",
    "Data: Data is the part of node which stores the information in the linked list.\r\n",
    "Next pointer: Next pointer is the part of the node which points to the next node of the linked list."
   ]
  },
  {
   "cell_type": "code",
   "execution_count": 22,
   "id": "6ba8f9c7-8362-4643-ba5b-beb0358c8d36",
   "metadata": {},
   "outputs": [],
   "source": [
    "class LinkedList:\n",
    "    class Node:\n",
    "        def __init__(self,data):\n",
    "            self.data = data\n",
    "            self.next = None\n",
    "    def __init__(self):\n",
    "        self.head = None\n",
    "    def insertbeg(self,data):\n",
    "        newnode = LinkedList.Node(data)\n",
    "        newnode.next = self.head\n",
    "        self.head = newnode\n",
    "    def insertend(self,data):\n",
    "        newnode = LinkedList.Node(data)\n",
    "        cur = self.head\n",
    "        while cur.next:\n",
    "            cur = cur.next\n",
    "        cur.next = newnode\n",
    "    def printlist(self):\n",
    "        cur = self.head\n",
    "        while cur:\n",
    "            print(cur.data,end = '-->')\n",
    "            cur = cur.next\n",
    "        print(None)\n",
    "    def delbynode(self,val):\n",
    "        if self.head==None:\n",
    "            print(\"List is empty\")\n",
    "        cur=self.head\n",
    "        while cur.next:\n",
    "            if cur.next.data==val:\n",
    "                break\n",
    "            cur=cur.next\n",
    "        if cur.next==None:\n",
    "            print(\"Node doesn't exists\")\n",
    "        else:\n",
    "            cur.next=cur.next.next\n",
    "    def hascycle(self):             #Floyd Maarshall\n",
    "        t, r = self.head,self.head\n",
    "        while r and r.next:\n",
    "            t = t.next\n",
    "            r = r.next.next\n",
    "            if r==t :\n",
    "                return \"cycle found\"\n",
    "        return \"No cycle\"\n",
    "    def reverseList(self,head):\n",
    "        prev = None\n",
    "        current = self.head\n",
    "        while current:\n",
    "            next = current.next\n",
    "            current.next = prev \n",
    "            prev = current \n",
    "            current = next\n",
    "        self.head = prev\n",
    "        return prev"
   ]
  },
  {
   "cell_type": "code",
   "execution_count": 26,
   "id": "89a708cd-88d8-4928-ab83-fd813fe9696d",
   "metadata": {},
   "outputs": [
    {
     "name": "stdout",
     "output_type": "stream",
     "text": [
      "19-->25-->35-->42-->59-->None\n"
     ]
    }
   ],
   "source": [
    "ll=LinkedList()\n",
    "ll.insertbeg(35)\n",
    "ll.insertend(42)\n",
    "ll.insertend(59)\n",
    "ll.insertbeg(25)\n",
    "ll.insertbeg(19)\n",
    "ll.printlist()"
   ]
  },
  {
   "cell_type": "code",
   "execution_count": 28,
   "id": "7d218506-30bb-487f-bc76-3387c3d1b0df",
   "metadata": {},
   "outputs": [
    {
     "name": "stdout",
     "output_type": "stream",
     "text": [
      "19-->25-->35-->59-->None\n"
     ]
    }
   ],
   "source": [
    "ll.delbynode(42)\n",
    "ll.printlist()"
   ]
  },
  {
   "cell_type": "code",
   "execution_count": 30,
   "id": "172f2c0d-cfdd-43c1-b059-7b9ff1140e28",
   "metadata": {},
   "outputs": [
    {
     "data": {
      "text/plain": [
       "'No cycle'"
      ]
     },
     "execution_count": 30,
     "metadata": {},
     "output_type": "execute_result"
    }
   ],
   "source": [
    "ll.hascycle()"
   ]
  },
  {
   "cell_type": "code",
   "execution_count": 32,
   "id": "ee4a6a99-c4f5-4ba9-a289-f45f00f84e16",
   "metadata": {},
   "outputs": [
    {
     "name": "stdout",
     "output_type": "stream",
     "text": [
      "59-->35-->25-->19-->None\n"
     ]
    }
   ],
   "source": [
    "ll.reverseList(19)\n",
    "ll.printlist()"
   ]
  },
  {
   "cell_type": "markdown",
   "id": "607f9321-181e-4e08-8433-82c6f8e5e392",
   "metadata": {},
   "source": [
    "Merge two sorted lists"
   ]
  },
  {
   "cell_type": "code",
   "execution_count": 34,
   "id": "fc591cdc-d5dc-4357-8d34-acb1ad06299d",
   "metadata": {},
   "outputs": [],
   "source": [
    "def merge(self,l1,l2):\n",
    "    dummy = Node(0)\n",
    "    cur = dummy\n",
    "    while l1 and l2:\n",
    "        if l1.val < l2.val:\n",
    "            cur.next = l1\n",
    "            l1 = l1.next\n",
    "        else:\n",
    "            cur.next = l2\n",
    "            l2 = l2.next\n",
    "    if l1:\n",
    "        cur.next = l1\n",
    "    elif l2:\n",
    "        cur.next = l2\n",
    "    return dummy.next"
   ]
  },
  {
   "cell_type": "markdown",
   "id": "77babe5a-59a5-4cfe-93c5-d0fed8d6697c",
   "metadata": {},
   "source": [
    "Sum divisible by 3 and 5"
   ]
  },
  {
   "cell_type": "code",
   "execution_count": 38,
   "id": "5850ce25-ee0f-4df6-b164-b8105cfea4e5",
   "metadata": {},
   "outputs": [
    {
     "data": {
      "text/plain": [
       "90"
      ]
     },
     "execution_count": 38,
     "metadata": {},
     "output_type": "execute_result"
    }
   ],
   "source": [
    "def sum_divisible(m, n):\n",
    "    if m > n:\n",
    "        m, n = n, m\n",
    "    total = 0\n",
    "    for num in range(m, n + 1):\n",
    "        if num % 3 == 0 and num % 5 == 0:\n",
    "            total = total + num\n",
    "    return total\n",
    "\n",
    "m = 12\n",
    "n = 50 \n",
    "sum_divisible(m,n)"
   ]
  },
  {
   "cell_type": "markdown",
   "id": "1c68c782-b113-4e8b-b27b-917a6af3dccc",
   "metadata": {},
   "source": [
    "Maximum Array"
   ]
  },
  {
   "cell_type": "code",
   "execution_count": 1,
   "id": "b08bfab2-9623-4cf3-9cc1-083beb1ebe64",
   "metadata": {},
   "outputs": [
    {
     "data": {
      "text/plain": [
       "9"
      ]
     },
     "execution_count": 1,
     "metadata": {},
     "output_type": "execute_result"
    }
   ],
   "source": [
    "def maxsum(arr):\n",
    "    c = arr[0]\n",
    "    g = arr[0]\n",
    "    for i in range(1,len(arr)):\n",
    "        c = max(arr[i] , c+arr[i])\n",
    "        g = max(c,g)\n",
    "    return g\n",
    "\n",
    "maxsum([-3,-7,5,4])"
   ]
  },
  {
   "cell_type": "markdown",
   "id": "073efaa4-d2bb-4858-88fc-05d265c71e81",
   "metadata": {},
   "source": [
    "Stack implementation using queues"
   ]
  },
  {
   "cell_type": "code",
   "execution_count": 13,
   "id": "b5a66982-3444-4a81-a2fc-407c3719a433",
   "metadata": {},
   "outputs": [],
   "source": [
    "class stack:\n",
    "    def __init__(self):\n",
    "        self.s1 = []\n",
    "        self.temp = []\n",
    "    def push(self,val):\n",
    "        while self.s1:\n",
    "            popped = self.s1.pop()\n",
    "            self.temp.append(popped)\n",
    "        self.s1.append(val)\n",
    "        while self.temp:\n",
    "            popped = self.temp.pop()\n",
    "            self.s1.append(popped)\n",
    "    def pop(self):\n",
    "        return self.s1.pop() if self.s1 else \"No elements\"\n",
    "    def peek(self):\n",
    "        return self.s1[-1] if self.s1 else \"No elements\"\n",
    "    def empty(self):\n",
    "        return len(self.s1) == 0 "
   ]
  },
  {
   "cell_type": "code",
   "execution_count": 11,
   "id": "31c987c1-e0a2-4aa4-9ad3-69a76a991d93",
   "metadata": {},
   "outputs": [
    {
     "data": {
      "text/plain": [
       "80"
      ]
     },
     "execution_count": 11,
     "metadata": {},
     "output_type": "execute_result"
    }
   ],
   "source": [
    "s = stack()\n",
    "s.push(80)\n",
    "s.push(59)\n",
    "s.push(10)\n",
    "s.pop()"
   ]
  },
  {
   "cell_type": "code",
   "execution_count": null,
   "id": "2c23ca66-bc68-4416-8639-8fc0975074f3",
   "metadata": {},
   "outputs": [],
   "source": []
  }
 ],
 "metadata": {
  "kernelspec": {
   "display_name": "Python 3 (ipykernel)",
   "language": "python",
   "name": "python3"
  },
  "language_info": {
   "codemirror_mode": {
    "name": "ipython",
    "version": 3
   },
   "file_extension": ".py",
   "mimetype": "text/x-python",
   "name": "python",
   "nbconvert_exporter": "python",
   "pygments_lexer": "ipython3",
   "version": "3.11.7"
  }
 },
 "nbformat": 4,
 "nbformat_minor": 5
}
